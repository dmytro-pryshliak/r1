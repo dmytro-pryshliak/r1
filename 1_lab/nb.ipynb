{
 "cells": [
  {
   "cell_type": "markdown",
   "metadata": {},
   "source": [
    "### Працюємо з програмою інтерактивно\n",
    "> Спробуємо помістити нашу програму в різні комірки Jyputer  Notebook та додати пояснення."
   ]
  },
  {
   "cell_type": "markdown",
   "metadata": {},
   "source": [
    "- робимо клітинку з імпортами бібліотек Python:  "
   ]
  },
  {
   "cell_type": "code",
   "execution_count": 3,
   "metadata": {},
   "outputs": [],
   "source": [
    "from datetime import datetime\n",
    "from time import time, localtime, strftime "
   ]
  },
  {
   "cell_type": "markdown",
   "metadata": {},
   "source": [
    "- задаємо клітинку з змінними:"
   ]
  },
  {
   "cell_type": "code",
   "execution_count": 4,
   "metadata": {},
   "outputs": [],
   "source": [
    "name = \"Дмитро\"\n",
    "location = \"Львів\""
   ]
  },
  {
   "cell_type": "markdown",
   "metadata": {},
   "source": [
    "- використовуємо функцію `print` для виводу теусту з змінними"
   ]
  },
  {
   "cell_type": "code",
   "execution_count": 5,
   "metadata": {},
   "outputs": [
    {
     "name": "stdout",
     "output_type": "stream",
     "text": [
      "Дмитро почав вчитись програмуванню о  11:15:09 годині, 2023-09-20. Львів найкраще місто!\n"
     ]
    }
   ],
   "source": [
    "print(f\"{name} почав вчитись програмуванню о  {datetime.now().time().replace(microsecond=0)} годині, {datetime.now().date()}. {location} найкраще місто!\")"
   ]
  },
  {
   "cell_type": "markdown",
   "metadata": {},
   "source": [
    "- спробуємо вивести час від початку епохи "
   ]
  },
  {
   "cell_type": "code",
   "execution_count": 6,
   "metadata": {},
   "outputs": [
    {
     "name": "stdout",
     "output_type": "stream",
     "text": [
      "час від початку епохи 1695197709.7717242\n"
     ]
    }
   ],
   "source": [
    "print(f\"час від початку епохи {time()}\")"
   ]
  },
  {
   "cell_type": "markdown",
   "metadata": {},
   "source": [
    "- спитались в chatgpt  як зробити час зрозумілим для людини"
   ]
  },
  {
   "cell_type": "code",
   "execution_count": 7,
   "metadata": {},
   "outputs": [],
   "source": [
    "local_time = localtime(time())  # Перетворюємо час у локальний час\n",
    "\n",
    "# Форматуємо час у звичний для людини формат (підправляємо дату для Українського)\n",
    "formatted_time = strftime(\"%d.%m.%Y %H:%M:%S\", local_time)"
   ]
  },
  {
   "cell_type": "code",
   "execution_count": 8,
   "metadata": {},
   "outputs": [
    {
     "name": "stdout",
     "output_type": "stream",
     "text": [
      "Поточний час: 20.09.2023 11:15:09\n"
     ]
    }
   ],
   "source": [
    "print(\"Поточний час:\", formatted_time) # друкуємо поточний час"
   ]
  }
 ],
 "metadata": {
  "kernelspec": {
   "display_name": "Python 3",
   "language": "python",
   "name": "python3"
  },
  "language_info": {
   "codemirror_mode": {
    "name": "ipython",
    "version": 3
   },
   "file_extension": ".py",
   "mimetype": "text/x-python",
   "name": "python",
   "nbconvert_exporter": "python",
   "pygments_lexer": "ipython3",
   "version": "3.11.5"
  },
  "orig_nbformat": 4
 },
 "nbformat": 4,
 "nbformat_minor": 2
}
