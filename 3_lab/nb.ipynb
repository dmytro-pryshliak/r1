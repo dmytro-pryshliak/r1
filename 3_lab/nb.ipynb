{
 "cells": [
  {
   "cell_type": "markdown",
   "metadata": {},
   "source": [
    "## Втуп до ООП\n",
    "### Перхід від традиційного програмування до ООП"
   ]
  },
  {
   "cell_type": "code",
   "execution_count": 5,
   "metadata": {},
   "outputs": [
    {
     "name": "stdout",
     "output_type": "stream",
     "text": [
      "Богдан має домашнього улюбленця: собака\n",
      "Сергій має домашнього улюбленця: рибка\n",
      "Микола має домашнього улюбленця: хомяк\n",
      "Богдан має домашнього улюбленця: ['рибка', 'кіт']\n",
      "Сергій має домашнього улюбленця: собака\n",
      "Микола має домашнього улюбленця: ['хомяк', 'собака', 'кіт']\n",
      "Дмитро заведи домашнього улюбленця\n"
     ]
    }
   ],
   "source": [
    "# це вбудований клас,  який описує абстракцію чисел (компютер не розуміє що таке числа поки ми не пояснимо це за допомогою класу)\n",
    "a = int(1)\n",
    "\n",
    "# якщо ми хочемо описати певний набір даних і використовувати їх в сукупності\n",
    "# спроба це зробити через вбудовані класи та типи даних\n",
    "\n",
    "name = [\"Богдан\", \"Сергій\", \"Микола\"]\n",
    "pets = [\"собака\", \"рибка\", \"хомяк\", \"кіт\", \"папуга\"]\n",
    "\n",
    "for i in range(len(name)):\n",
    "    print(f\"{name[i]} має домашнього улюбленця: {pets[i]}\")\n",
    "# якщо немає прямої відповідності ми не можемо згрупувати дані\n",
    "# використаємо інші вбудовані типи даних, словники\n",
    "\n",
    "pet_club = {\"Богдан\": [\"рибка\", \"кіт\"], \"Сергій\": \"собака\", \"Микола\": [\"хомяк\", \"собака\", \"кіт\"], \"Дмитро\": None}\n",
    "\n",
    "for name in pet_club.keys():\n",
    "    if pet_club[name]:\n",
    "        print(f\"{name} має домашнього улюбленця: {pet_club[name]}\")\n",
    "    else:\n",
    "        print(f\"{name} заведи домашнього улюбленця\")\n",
    "\n",
    "\n"
   ]
  },
  {
   "cell_type": "code",
   "execution_count": 15,
   "metadata": {},
   "outputs": [
    {
     "name": "stdout",
     "output_type": "stream",
     "text": [
      "dmytro d має домашнього улюблення: ['Собака', 'Рибки']\n",
      "dmytro має Собаку.\n",
      "Собаку dmytro звати sharik\n",
      "sergii s має домашнього улюблення: ['Кіт']\n",
      "Кота sergii звати Мурзік\n"
     ]
    }
   ],
   "source": [
    "# якщо стає важко описати якесь явище/абстракцію готовими конструкціями , тоді ми робимо це самостійно використовуючи класи\n",
    "\n",
    "class MyPetClub:\n",
    "    pass \n",
    "\n",
    "b = MyPetClub()\n",
    "b.name = \"dmytro\"\n",
    "b.surname = \"d\"\n",
    "b.age = 17\n",
    "b.pets = [\"Собака\", \"Рибки\"]\n",
    "b.pets_dog = \"sharik\"\n",
    "b.pets_fish = \"neons\"\n",
    "\n",
    "s = MyPetClub()\n",
    "s.name = \"sergii\"\n",
    "s.surname = \"s\"\n",
    "s.age = 20\n",
    "s.pets = [\"Кіт\"]\n",
    "s.pets_dog = \"\"\n",
    "s.pets_fish = \"\"\n",
    "s.pets_cat = \"Мурзік\"\n",
    "\n",
    "for bb in [b, s]:\n",
    "    print(f\"{bb.name} {bb.surname} має домашнього улюблення: {bb.pets}\")\n",
    "    if \"Собака\" in bb.pets:\n",
    "        print(f\"{bb.name} має Собаку.\")\n",
    "    if bb.pets_dog:\n",
    "        print(f\"Собаку {bb.name} звати {bb.pets_dog}\")\n",
    "    elif bb.pets_cat:\n",
    "        print(f\"Кота {bb.name} звати {bb.pets_cat}\")\n",
    "    else:\n",
    "        print(f\"{bb.name} ще не дав їй кличку.\")"
   ]
  }
 ],
 "metadata": {
  "kernelspec": {
   "display_name": "Python 3",
   "language": "python",
   "name": "python3"
  },
  "language_info": {
   "codemirror_mode": {
    "name": "ipython",
    "version": 3
   },
   "file_extension": ".py",
   "mimetype": "text/x-python",
   "name": "python",
   "nbconvert_exporter": "python",
   "pygments_lexer": "ipython3",
   "version": "3.11.5"
  }
 },
 "nbformat": 4,
 "nbformat_minor": 2
}
