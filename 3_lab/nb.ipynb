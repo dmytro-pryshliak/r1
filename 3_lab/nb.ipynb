{
 "cells": [
  {
   "cell_type": "markdown",
   "metadata": {},
   "source": [
    "## Втуп до ООП\n",
    "### Перхід від традиційного програмування до ООП"
   ]
  },
  {
   "cell_type": "code",
   "execution_count": 4,
   "metadata": {},
   "outputs": [
    {
     "name": "stdout",
     "output_type": "stream",
     "text": [
      "Богдан має домашнього улюбленця: собака\n",
      "Сергій має домашнього улюбленця: рибка\n",
      "Микола має домашнього улюбленця: хомяк\n",
      "Богдан має домашнього улюбленця: ['рибка', 'кіт']\n",
      "Сергій має домашнього улюбленця: собака\n",
      "Микола має домашнього улюбленця: ['хомяк', 'собака', 'кіт']\n",
      "Дмитро заведи домашнього улюбленця\n"
     ]
    }
   ],
   "source": [
    "# це вбудований клас,  який описує абстракцію чисел (компютер не розуміє що таке числа поки ми не пояснимо це за допомогою класу)\n",
    "a = int(1)\n",
    "\n",
    "# якщо ми хочемо описати певний набір даних і використовувати їх в сукупності\n",
    "# спроба це зробити через вбудовані класи та типи даних\n",
    "\n",
    "name = [\"Богдан\", \"Сергій\", \"Микола\"]\n",
    "pets = [\"собака\", \"рибка\", \"хомяк\", \"кіт\", \"папуга\"]\n",
    "\n",
    "for i in range(len(name)):\n",
    "    print(f\"{name[i]} має домашнього улюбленця: {pets[i]}\")\n",
    "# якщо немає прямої відповідності ми не можемо згрупувати дані\n",
    "# використаємо інші вбудовані типи даних, словники\n",
    "\n",
    "pet_club = {\"Богдан\": [\"рибка\", \"кіт\"], \"Сергій\": \"собака\", \"Микола\": [\"хомяк\", \"собака\", \"кіт\"], \"Дмитро\": None}\n",
    "\n",
    "for name in pet_club.keys():\n",
    "    if pet_club[name]:\n",
    "        print(f\"{name} має домашнього улюбленця: {pet_club[name]}\")\n",
    "    else:\n",
    "        print(f\"{name} заведи домашнього улюбленця\")\n",
    "\n",
    "\n"
   ]
  },
  {
   "cell_type": "code",
   "execution_count": 5,
   "metadata": {},
   "outputs": [],
   "source": [
    "# якщо стає важко описати якесь явище/абстракцію готовими конструкціями , тоді ми робимо це самостійно використовуючи класи\n",
    "\n",
    "class MyPetClub:\n",
    "    pass \n",
    "\n",
    "b = MyPetClub()\n",
    "b.name = \"dmytro\"\n",
    "b.surname = \"d\"\n",
    "b.age = 17\n",
    "b.pets = [\"Собака\", \"Рибки\"]\n",
    "b.pets_dog = \"sharik\"\n",
    "b.pets_fish = \"neons\"\n",
    "\n",
    "s = MyPetClub()\n",
    "s.name = \"sergii\"\n",
    "s.surname = \"s\"\n",
    "s.age = 20\n",
    "s.pets = [\"Кіт\"]\n",
    "s.pets_dog = \"\"\n",
    "s.pets_fish = \"\"\n",
    "s.pets_cat = \"Мурзік\"\n",
    "\n",
    "# динамічні атрибути будуть лише у тих обєктів деми їх задали\n",
    "\n",
    "e = MyPetClub()\n",
    "e.name = \"andrii\"\n",
    "\n",
    "# при динамічному заданні атрибутів можуть бути унікальні ролі які не будуть співпадати з іншими обєктами\n",
    "e.full_name = \"andrii a\""
   ]
  },
  {
   "cell_type": "code",
   "execution_count": 6,
   "metadata": {},
   "outputs": [],
   "source": [
    "def print_my_pets_class(obj:list) -> None:\n",
    "    for bb in obj:\n",
    "        print(\"=\"*20)\n",
    "        try:\n",
    "            print(f\"{bb.name} {bb.surname} має домашнього улюблення: {bb.pets}\")\n",
    "            if \"Собака\" in bb.pets:\n",
    "                print(f\"{bb.name} має Собаку.\")\n",
    "            if bb.pets_dog:\n",
    "                print(f\"Собаку {bb.name} звати {bb.pets_dog}\")\n",
    "            elif bb.pets_cat:\n",
    "                print(f\"Кота {bb.name} звати {bb.pets_cat}\")\n",
    "            else:\n",
    "                print(f\"{bb.name} ще не дав їй кличку.\")\n",
    "        except AttributeError as e:\n",
    "            print(f\"відсутні базові атрибути {e}\")\n",
    "\n",
    "        try:\n",
    "            print(f\"повне ім'я {bb.full_name} \\nage: {bb.age}\")\n",
    "        except:\n",
    "            print(\"відсутній обєкт full_name\")"
   ]
  },
  {
   "cell_type": "code",
   "execution_count": 7,
   "metadata": {},
   "outputs": [
    {
     "name": "stdout",
     "output_type": "stream",
     "text": [
      "====================\n",
      "dmytro d має домашнього улюблення: ['Собака', 'Рибки']\n",
      "dmytro має Собаку.\n",
      "Собаку dmytro звати sharik\n",
      "відсутній обєкт full_name\n",
      "====================\n",
      "sergii s має домашнього улюблення: ['Кіт']\n",
      "Кота sergii звати Мурзік\n",
      "відсутній обєкт full_name\n",
      "====================\n",
      "відсутні базові атрибути 'MyPetClub' object has no attribute 'surname'\n",
      "відсутній обєкт full_name\n"
     ]
    }
   ],
   "source": [
    "print_my_pets_class([b, s, e])"
   ]
  },
  {
   "cell_type": "code",
   "execution_count": 8,
   "metadata": {},
   "outputs": [
    {
     "name": "stdout",
     "output_type": "stream",
     "text": [
      "====================\n",
      "dmytro d має домашнього улюблення: заведи собі улюбленця\n",
      "dmytro ще не дав їй кличку.\n",
      "повне ім'я dmytro d \n",
      "age: 18\n",
      "====================\n",
      "sergii s має домашнього улюблення: ['Собака', 'Рибки']\n",
      "sergii має Собаку.\n",
      "Собаку sergii звати sharik\n",
      "повне ім'я sergii s \n",
      "age: None\n",
      "====================\n",
      "andrii a має домашнього улюблення: ['Кіт']\n",
      "Кота andrii звати markiz\n",
      "повне ім'я andrii a \n",
      "age: None\n"
     ]
    }
   ],
   "source": [
    "# якщо ми хочемо створити об'єкт та зразу ініціалізувати його атрибути, ми використовуєм конструктор (__init__)\n",
    "# в кожному конструкторі або методі класу має бути змінна self - вказівник на самого себе\n",
    "#\n",
    "from my_module import MyPetClabMain\n",
    "\n",
    "a = MyPetClabMain(\"dmytro\", \"d\", 18) \n",
    "b = MyPetClabMain(\"sergii\", \"s\", pets=[\"Собака\", \"Рибки\"], dog_name = \"sharik\" ) \n",
    "c = MyPetClabMain(\"andrii\", \"a\",  pets=[\"Кіт\"], cat_name = \"markiz\")\n",
    "print_my_pets_class([a, b, c])   \n",
    "\n"
   ]
  },
  {
   "cell_type": "code",
   "execution_count": 9,
   "metadata": {},
   "outputs": [
    {
     "name": "stdout",
     "output_type": "stream",
     "text": [
      "dmytro\n",
      "====================\n",
      "Володимир d має домашнього улюблення: заведи собі улюбленця\n",
      "Володимир ще не дав їй кличку.\n",
      "повне ім'я dmytro d \n",
      "age: 18\n",
      "dmytro d\n",
      "====================\n",
      "Володимир d має домашнього улюблення: заведи собі улюбленця\n",
      "Володимир ще не дав їй кличку.\n",
      "повне ім'я Джеймс Бонд \n",
      "age: 18\n",
      "Володимир d\n"
     ]
    }
   ],
   "source": [
    "print(a.name)\n",
    "a.name = \"Володимир\"\n",
    "\n",
    "print_my_pets_class([a])\n",
    "\n",
    "print(a.full_name)\n",
    "\n",
    "a.full_name = \"Джеймс Бонд\"\n",
    "print_my_pets_class([a])\n",
    "\n",
    "print(a.full_name_property)"
   ]
  },
  {
   "cell_type": "code",
   "execution_count": 11,
   "metadata": {},
   "outputs": [
    {
     "name": "stdout",
     "output_type": "stream",
     "text": [
      "1 dmytro d\n",
      "2 Містeр Бін\n",
      "3 dmytro d\n"
     ]
    }
   ],
   "source": [
    "class MyPetClabMain:\n",
    "    # Не плутати таке присвоєння, ми через конструктор предаємо аргумент name який буде присвоєно атрибуту self.name \n",
    "    def __init__(self, name:str, surname:str, age:int=None, pets:list=[], dog_name:str=None, cat_name:str=None) -> None:\n",
    "        self.name = name\n",
    "        self.surname = surname\n",
    "        # Ми можемо навіть згуповувати передані аргументи для того щоб створити потрібний атрибут\n",
    "        self.full_name = f\"{name} {surname}\"\n",
    "        self.age = age\n",
    "        self.pets = pets if len(pets)>0 else \"Заведи собі улюбленця!\"\n",
    "        self.pets_dog = dog_name if \"Собака\" in pets else None\n",
    "        self.pets_fish = \"Рибка\" if \"Рибка\" in pets else None\n",
    "        self.pets_cat = cat_name if \"Кіт\" in pets else None\n",
    "    \n",
    "    @property\n",
    "    def full_name_property(self):\n",
    "        return f\"{self.name} {self.surname}\"\n",
    "\n",
    "a = MyPetClabMain(\"dmytro\", \"d\", 18) \n",
    "print(\"1\",a.full_name)\n",
    "a.full_name = \"Містeр Бін\"\n",
    "print(\"2\", a.full_name)\n",
    "\n",
    "print(\"3\",a.full_name_property)\n",
    "\n",
    "# Міняти проперті не можна, бо буде помилка!\n",
    "#a.full_name_property = \"Містер пупур\""
   ]
  }
 ],
 "metadata": {
  "kernelspec": {
   "display_name": "Python 3",
   "language": "python",
   "name": "python3"
  },
  "language_info": {
   "codemirror_mode": {
    "name": "ipython",
    "version": 3
   },
   "file_extension": ".py",
   "mimetype": "text/x-python",
   "name": "python",
   "nbconvert_exporter": "python",
   "pygments_lexer": "ipython3",
   "version": "3.11.5"
  }
 },
 "nbformat": 4,
 "nbformat_minor": 2
}
