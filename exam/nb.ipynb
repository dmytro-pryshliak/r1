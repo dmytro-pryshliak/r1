{
 "cells": [
  {
   "cell_type": "code",
   "execution_count": 2,
   "metadata": {},
   "outputs": [
    {
     "name": "stdout",
     "output_type": "stream",
     "text": [
      "Я здав екзамен.\n"
     ]
    }
   ],
   "source": [
    "exam = input(\"Введіть результат екзамену (True або False): \")\n",
    "\n",
    "\n",
    "if exam.lower() == 'true':\n",
    "    print(\"Я здав екзамен.\")\n",
    "elif exam.lower() == 'false':\n",
    "    print(\"Я не здав екзамен.\")\n",
    "else:\n",
    "    print(\"Введене значення не є правильним.\")\n",
    "\n"
   ]
  }
 ],
 "metadata": {
  "kernelspec": {
   "display_name": "Python 3",
   "language": "python",
   "name": "python3"
  },
  "language_info": {
   "codemirror_mode": {
    "name": "ipython",
    "version": 3
   },
   "file_extension": ".py",
   "mimetype": "text/x-python",
   "name": "python",
   "nbconvert_exporter": "python",
   "pygments_lexer": "ipython3",
   "version": "3.11.5"
  }
 },
 "nbformat": 4,
 "nbformat_minor": 2
}
