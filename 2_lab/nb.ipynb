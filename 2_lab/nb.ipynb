{
 "cells": [
  {
   "cell_type": "markdown",
   "metadata": {},
   "source": [
    "### Основи Python\n",
    "#### Основні типи даних \n",
    "- текстовий/стрічковий тип даних:"
   ]
  },
  {
   "cell_type": "code",
   "execution_count": 1,
   "metadata": {},
   "outputs": [
    {
     "name": "stdout",
     "output_type": "stream",
     "text": [
      "Це просто стрічка \n",
      "ЦЕ СТРІЧКА ЯКА ПРИСВОЇНА змінній\n",
      "Вміст змінної наступний: це теж саме  \n",
      "Тип даної змінної буде: <class 'str'>\n",
      "якщо просто виведемо обєкт то буде: Це буде текстовий обєкт\n",
      "Перевіряємо чи у стрічці є цифра:  False\n",
      "Після використання методу __add__ будемо мати: Це буде текстовий обєктА це буде добавленно до обєкту \n",
      "А тип змінної буде: <class 'str'>\n"
     ]
    }
   ],
   "source": [
    "print(\"Це просто стрічка \")\n",
    "a = \"ЦЕ СТРІЧКА ЯКА ПРИСВОЇНА змінній\"\n",
    "print(a) # виводимо зміст змінної\n",
    "b = \"це теж саме \"\n",
    "print(\"Вміст змінної наступний:\", b, \"\\nТип даної змінної буде:\", type(b) )\n",
    "\n",
    "c = str(\"Це буде текстовий обєкт\")\n",
    "print(\"якщо просто виведемо обєкт то буде:\", c)\n",
    "\n",
    "print(\"Перевіряємо чи у стрічці є цифра: \", c.isdigit())\n",
    "\n",
    "d = c.__add__(\"А це буде добавленно до обєкту\")\n",
    "print(\"Після використання методу __add__ будемо мати:\", d, \"\\nА тип змінної буде:\", type(d))"
   ]
  },
  {
   "cell_type": "markdown",
   "metadata": {},
   "source": [
    "### Конкатенація стрічок, додаавання та множення"
   ]
  },
  {
   "cell_type": "code",
   "execution_count": 2,
   "metadata": {},
   "outputs": [
    {
     "name": "stdout",
     "output_type": "stream",
     "text": [
      "при конкатеніції стрічок буде: стрічка 1стрічка 2\n",
      "це має такий самий результат тільки зрозуміліший для інтерпритатора Python  стрічка 1стрічка 2\n",
      "Що буде кщо помножити стрічку на число?\n",
      "це все буде малими буквами це все буде малими буквами це все буде малими буквами це все буде малими буквами \n",
      "найчастіше множення стрічок роблять для от таких штук: \n",
      " +=-<!>--<!>--<!>-=+\n"
     ]
    }
   ],
   "source": [
    "e = \"стрічка 1\"\n",
    "f = \"стрічка 2\"\n",
    "g = e + f\n",
    "print(\"при конкатеніції стрічок буде:\", g)\n",
    "g = e.__add__(f)\n",
    "print(\"це має такий самий результат тільки зрозуміліший для інтерпритатора Python \", g)\n",
    "print(\"Що буде кщо помножити стрічку на число?\")\n",
    "\n",
    "print(\"ЦЕ ВСЕ БУДЕ МАЛИМИ БУКВАМИ \".lower() * 4)\n",
    "print(\"найчастіше множення стрічок роблять для от таких штук: \\n\", \"+=\" + \"-<!>-\" * 3 + \"=+\")\n"
   ]
  },
  {
   "cell_type": "markdown",
   "metadata": {},
   "source": [
    "- числові типи даних"
   ]
  },
  {
   "cell_type": "code",
   "execution_count": 3,
   "metadata": {},
   "outputs": [
    {
     "name": "stdout",
     "output_type": "stream",
     "text": [
      "в обох випадках  маємо : <class 'int'> та <class 'int'>\n",
      "тут ми явно перетворюємо тип даних <class 'float'> \n",
      "однак можна його перетворити на  <class 'int'> значення буде 1 \n",
      "та навпаки тип <class 'int'> можемо перетворити в  <class 'float'> і значення буде  1.0\n",
      "при перетворенні цифр на символи ми будемо мати:  1.5 перетворится на  1.5\n"
     ]
    }
   ],
   "source": [
    "a = 1\n",
    "b = int(1)\n",
    "print(\"в обох випадках  маємо :\", type(a), \"та\", type(b))\n",
    "\n",
    "c = 1.5\n",
    "d = int(c)\n",
    "e = float(a)\n",
    "print(\"тут ми явно перетворюємо тип даних\", type(c), \"\\nоднак можна його перетворити на \", type(d), \"значення буде\", d, \"\\nта навпаки тип\", type(a), \"можемо перетворити в \", type(e), \"і значення буде \", e)\n",
    "\n",
    "\n",
    "f = str(c)\n",
    "print(\"при перетворенні цифр на символи ми будемо мати: \", c, \"перетворится на \", f)\n",
    "\n",
    "\n",
    "\n"
   ]
  },
  {
   "cell_type": "markdown",
   "metadata": {},
   "source": [
    "- тут виникне помилка бо цифри у вигляді стрічок не можуть виконувати операції з простими числами"
   ]
  },
  {
   "cell_type": "code",
   "execution_count": 4,
   "metadata": {},
   "outputs": [
    {
     "name": "stdout",
     "output_type": "stream",
     "text": [
      "перше значення 1.5 друге значення 1.5 тепер додаємо:\n"
     ]
    },
    {
     "ename": "TypeError",
     "evalue": "can only concatenate str (not \"float\") to str",
     "output_type": "error",
     "traceback": [
      "\u001b[1;31m---------------------------------------------------------------------------\u001b[0m",
      "\u001b[1;31mTypeError\u001b[0m                                 Traceback (most recent call last)",
      "\u001b[1;32mc:\\Users\\РС\\Desktop\\ooп\\r1\\2_lab\\nb.ipynb Cell 8\u001b[0m line \u001b[0;36m3\n\u001b[0;32m      <a href='vscode-notebook-cell:/c%3A/Users/%D0%A0%D0%A1/Desktop/oo%D0%BF/r1/2_lab/nb.ipynb#X10sZmlsZQ%3D%3D?line=0'>1</a>\u001b[0m \u001b[39mprint\u001b[39m(\u001b[39m\"\u001b[39m\u001b[39mперше значення\u001b[39m\u001b[39m\"\u001b[39m, c, \u001b[39m\"\u001b[39m\u001b[39mдруге значення\u001b[39m\u001b[39m\"\u001b[39m, f, \u001b[39m\"\u001b[39m\u001b[39mтепер додаємо:\u001b[39m\u001b[39m\"\u001b[39m)\n\u001b[1;32m----> <a href='vscode-notebook-cell:/c%3A/Users/%D0%A0%D0%A1/Desktop/oo%D0%BF/r1/2_lab/nb.ipynb#X10sZmlsZQ%3D%3D?line=2'>3</a>\u001b[0m \u001b[39mprint\u001b[39m(f \u001b[39m+\u001b[39;49m c)\n",
      "\u001b[1;31mTypeError\u001b[0m: can only concatenate str (not \"float\") to str"
     ]
    }
   ],
   "source": [
    "print(\"перше значення\", c, \"друге значення\", f, \"тепер додаємо:\")\n",
    "\n",
    "print(f + c)"
   ]
  },
  {
   "cell_type": "markdown",
   "metadata": {},
   "source": [
    "- розбиираємось з `list` vs `tuple`\n",
    "> `list` - можна модифікувати тому що він є mutable\n",
    "\n",
    "> `tuple` - не можна модифікувати тому що він є immutable"
   ]
  },
  {
   "cell_type": "code",
   "execution_count": 5,
   "metadata": {},
   "outputs": [
    {
     "name": "stdout",
     "output_type": "stream",
     "text": [
      "початкові значення списку \n",
      "l: [0, 1] \n",
      "початкові значення списку ll: [0, 1, 2, 3]\n",
      "після додавання буде(append)\n",
      ": [0, 1, 2] \n",
      "після вставлення(insert) [0, 'це буде елемент який ми вставляємо в список', 1, 2, 3]\n",
      "також можна видалити вставлений елемент: це буде елемент який ми вставляємо в список \n",
      "тоді наш список буде [0, 1, 2, 3]\n"
     ]
    }
   ],
   "source": [
    "# два способи створити список\n",
    "l = [0, 1]\n",
    "ll = list([0, 1, 2, 3])\n",
    "print(\"початкові значення списку \\nl:\", l, \"\\nпочаткові значення списку ll:\", ll)\n",
    "l.append(2)\n",
    "ll.insert(1, \"це буде елемент який ми вставляємо в список\")\n",
    "print(\"після додавання буде(append)\\n:\", l, \"\\nпісля вставлення(insert)\", ll)\n",
    "print(\"також можна видалити вставлений елемент:\", ll.pop(1), \"\\nтоді наш список буде\", ll)"
   ]
  },
  {
   "cell_type": "code",
   "execution_count": 6,
   "metadata": {},
   "outputs": [
    {
     "name": "stdout",
     "output_type": "stream",
     "text": [
      "початкові значення tuple,\n",
      "t: (0, 1, 2, 0) \n",
      "tt: (8, 5, 4, 3, 2, 1, 0)\n",
      "tuple не можна змінювати, лише порахувати як часто зустрічаються певні елементи, 0 в t зустрічається: 2 рази \n",
      "або взнати під яким індексом знаходиться певний елемент, 1 в tt 5 індексом/позицієм\n"
     ]
    }
   ],
   "source": [
    "t = (0, 1 ,2 , 0)\n",
    "tt = tuple([8, 5, 4, 3, 2, 1, 0])\n",
    "print(\"початкові значення tuple,\\nt:\", t, \"\\ntt:\", tt)\n",
    "print(\"tuple не можна змінювати, лише порахувати як часто зустрічаються певні елементи, 0 в t зустрічається:\", t.count(0), \"рази\", \n",
    "      \"\\nабо взнати під яким індексом знаходиться певний елемент, 1 в tt\", tt.index(1), \"індексом/позицієм\")"
   ]
  },
  {
   "cell_type": "markdown",
   "metadata": {},
   "source": [
    "- знайомство з Set"
   ]
  },
  {
   "cell_type": "code",
   "execution_count": 7,
   "metadata": {},
   "outputs": [
    {
     "name": "stdout",
     "output_type": "stream",
     "text": [
      "У set зберігається або містяться тільки унікальні елементи, якщо взяти List : [1, 2, 1, 2, 3] і утворити set: {1, 2, 3}\n",
      "1\n"
     ]
    }
   ],
   "source": [
    "ll = [1, 2, 1, 2, 3]\n",
    "ss = set(ll)\n",
    "print(\"У set зберігається або містяться тільки унікальні елементи, якщо взяти List :\", ll, \"і утворити set:\", ss)\n",
    "\n",
    "\n",
    "print(ss.pop())\n",
    "\n"
   ]
  },
  {
   "cell_type": "markdown",
   "metadata": {},
   "source": [
    "> найчастіше set використовується для знаходження унікальних елементів списку"
   ]
  },
  {
   "cell_type": "code",
   "execution_count": 8,
   "metadata": {},
   "outputs": [
    {
     "name": "stdout",
     "output_type": "stream",
     "text": [
      "знайшли унікальні елементи та перетворили отримані елементи назад у список: 1\n"
     ]
    }
   ],
   "source": [
    "u = list(set(ll))\n",
    "print(\"знайшли унікальні елементи та перетворили отримані елементи назад у список:\",u[0])\n"
   ]
  },
  {
   "cell_type": "markdown",
   "metadata": {},
   "source": [
    "- знайомство з dict"
   ]
  },
  {
   "cell_type": "code",
   "execution_count": 9,
   "metadata": {},
   "outputs": [
    {
     "name": "stdout",
     "output_type": "stream",
     "text": [
      "для того щоб досттупитися до певного елемента ми повинні значити значення ключа: це значення dmytro\n",
      "Не плутайтесь якщо ключ і значення є одинаковими: True\n",
      "утворений словник буде: {'Name': 'name', 'new': 1} а доступитися до його елементи ми можемо двояко: name або name\n",
      "забираємо з словника один елемент з ключем new: 1\n",
      "Все що залишилось: {'Name': 'name'}\n"
     ]
    }
   ],
   "source": [
    "dd = {\"це ключ dmytro\": \"це значення dmytro\", \"True\": True}\n",
    "\n",
    "print(\"для того щоб досттупитися до певного елемента ми повинні значити значення ключа:\", dd[\"це ключ dmytro\"])\n",
    "\n",
    "print(\"Не плутайтесь якщо ключ і значення є одинаковими:\", dd[\"True\"])\n",
    "\n",
    "\n",
    "name = \"Name\"\n",
    "dd2 = dict({name: \"name\", \"new\": 1})\n",
    "print(\"утворений словник буде:\",dd2, \"а доступитися до його елементи ми можемо двояко:\", dd2[name], \"або\",dd2[\"Name\"])\n",
    "\n",
    "print(\"забираємо з словника один елемент з ключем new:\", dd2.pop(\"new\"))\n",
    "print(\"Все що залишилось:\", dd2)"
   ]
  },
  {
   "cell_type": "markdown",
   "metadata": {},
   "source": [
    "- зарезервовані змінні"
   ]
  },
  {
   "cell_type": "code",
   "execution_count": 10,
   "metadata": {},
   "outputs": [
    {
     "name": "stdout",
     "output_type": "stream",
     "text": [
      "Ці два значення не однакові: True не буде рівним True \n",
      "тому що при перевірці видає: False\n",
      "тому що перший є: <class 'bool'> а другий: <class 'str'>\n",
      "перевірка буду справджуватися: True\n"
     ]
    }
   ],
   "source": [
    "a = True\n",
    "b = 'True'\n",
    "print(\"Ці два значення не однакові:\", a, \"не буде рівним\", b, \"\\nтому що при перевірці видає:\", a == b)\n",
    "print(\"тому що перший є:\", type(a), \"а другий:\", type(b))\n",
    "print(\"перевірка буду справджуватися:\", a == True)\n",
    "\n"
   ]
  },
  {
   "cell_type": "markdown",
   "metadata": {},
   "source": [
    "- запиталися в chatgpt що виведе наша програма:\n",
    "```\n",
    "Ця програма виведе наступний результат:\n",
    "```\n",
    "\n",
    "Перевірка буде справджуватись якщо: False\n",
    "У вашій програмі ви порівнюєте логічну змінну a (зі значенням True) і рядок b (зі значенням 'True'). Вони різні за типом даних, тому порівняння a == b буде False, оскільки вони не мають однакових значень і типів даних."
   ]
  },
  {
   "cell_type": "markdown",
   "metadata": {},
   "source": [
    "- вбудовані функції"
   ]
  },
  {
   "cell_type": "code",
   "execution_count": 15,
   "metadata": {},
   "outputs": [
    {
     "name": "stdout",
     "output_type": "stream",
     "text": [
      "пробуємо вбудовану функцію type. Значення: <class 'bool'> буде теж саме що  <class 'bool'>\n",
      "можна застосовувати тільки до модулів, результат буде: \n",
      "*4 {'__name__': 'datetime', '__doc__': 'Fast implementation of the datetime type.', '__package__': '', '__loader__': <_frozen_importlib_external.SourceFileLoader object at 0x00000286F10B1610>, '__spec__': ModuleSpec(name='datetime', loader=<_frozen_importlib_external.SourceFileLoader object at 0x00000286F10B1610>, origin='d:\\\\p\\\\Lib\\\\datetime.py'), '__file__': 'd:\\\\p\\\\Lib\\\\datetime.py', '__cached__': 'd:\\\\p\\\\Lib\\\\__pycache__\\\\datetime.cpython-311.pyc', '__builtins__': {'__name__': 'builtins', '__doc__': \"Built-in functions, types, exceptions, and other objects.\\n\\nThis module provides direct access to all 'built-in'\\nidentifiers of Python; for example, builtins.len is\\nthe full name for the built-in function len().\\n\\nThis module is not normally accessed explicitly by most\\napplications, but can be useful in modules that provide\\nobjects with the same name as a built-in value, but in\\nwhich the built-in of that name is also needed.\", '__package__': '', '__loader__': <class '_frozen_importlib.BuiltinImporter'>, '__spec__': ModuleSpec(name='builtins', loader=<class '_frozen_importlib.BuiltinImporter'>, origin='built-in'), '__build_class__': <built-in function __build_class__>, '__import__': <built-in function __import__>, 'abs': <built-in function abs>, 'all': <built-in function all>, 'any': <built-in function any>, 'ascii': <built-in function ascii>, 'bin': <built-in function bin>, 'breakpoint': <built-in function breakpoint>, 'callable': <built-in function callable>, 'chr': <built-in function chr>, 'compile': <built-in function compile>, 'delattr': <built-in function delattr>, 'dir': <built-in function dir>, 'divmod': <built-in function divmod>, 'eval': <built-in function eval>, 'exec': <built-in function exec>, 'format': <built-in function format>, 'getattr': <built-in function getattr>, 'globals': <built-in function globals>, 'hasattr': <built-in function hasattr>, 'hash': <built-in function hash>, 'hex': <built-in function hex>, 'id': <built-in function id>, 'input': <bound method Kernel.raw_input of <ipykernel.ipkernel.IPythonKernel object at 0x00000286F3F8B590>>, 'isinstance': <built-in function isinstance>, 'issubclass': <built-in function issubclass>, 'iter': <built-in function iter>, 'aiter': <built-in function aiter>, 'len': <built-in function len>, 'locals': <built-in function locals>, 'max': <built-in function max>, 'min': <built-in function min>, 'next': <built-in function next>, 'anext': <built-in function anext>, 'oct': <built-in function oct>, 'ord': <built-in function ord>, 'pow': <built-in function pow>, 'print': <built-in function print>, 'repr': <built-in function repr>, 'round': <built-in function round>, 'setattr': <built-in function setattr>, 'sorted': <built-in function sorted>, 'sum': <built-in function sum>, 'vars': <built-in function vars>, 'None': None, 'Ellipsis': Ellipsis, 'NotImplemented': NotImplemented, 'False': False, 'True': True, 'bool': <class 'bool'>, 'memoryview': <class 'memoryview'>, 'bytearray': <class 'bytearray'>, 'bytes': <class 'bytes'>, 'classmethod': <class 'classmethod'>, 'complex': <class 'complex'>, 'dict': <class 'dict'>, 'enumerate': <class 'enumerate'>, 'filter': <class 'filter'>, 'float': <class 'float'>, 'frozenset': <class 'frozenset'>, 'property': <class 'property'>, 'int': <class 'int'>, 'list': <class 'list'>, 'map': <class 'map'>, 'object': <class 'object'>, 'range': <class 'range'>, 'reversed': <class 'reversed'>, 'set': <class 'set'>, 'slice': <class 'slice'>, 'staticmethod': <class 'staticmethod'>, 'str': <class 'str'>, 'super': <class 'super'>, 'tuple': <class 'tuple'>, 'type': <class 'type'>, 'zip': <class 'zip'>, '__debug__': True, 'BaseException': <class 'BaseException'>, 'BaseExceptionGroup': <class 'BaseExceptionGroup'>, 'Exception': <class 'Exception'>, 'GeneratorExit': <class 'GeneratorExit'>, 'KeyboardInterrupt': <class 'KeyboardInterrupt'>, 'SystemExit': <class 'SystemExit'>, 'ArithmeticError': <class 'ArithmeticError'>, 'AssertionError': <class 'AssertionError'>, 'AttributeError': <class 'AttributeError'>, 'BufferError': <class 'BufferError'>, 'EOFError': <class 'EOFError'>, 'ImportError': <class 'ImportError'>, 'LookupError': <class 'LookupError'>, 'MemoryError': <class 'MemoryError'>, 'NameError': <class 'NameError'>, 'OSError': <class 'OSError'>, 'ReferenceError': <class 'ReferenceError'>, 'RuntimeError': <class 'RuntimeError'>, 'StopAsyncIteration': <class 'StopAsyncIteration'>, 'StopIteration': <class 'StopIteration'>, 'SyntaxError': <class 'SyntaxError'>, 'SystemError': <class 'SystemError'>, 'TypeError': <class 'TypeError'>, 'ValueError': <class 'ValueError'>, 'Warning': <class 'Warning'>, 'FloatingPointError': <class 'FloatingPointError'>, 'OverflowError': <class 'OverflowError'>, 'ZeroDivisionError': <class 'ZeroDivisionError'>, 'BytesWarning': <class 'BytesWarning'>, 'DeprecationWarning': <class 'DeprecationWarning'>, 'EncodingWarning': <class 'EncodingWarning'>, 'FutureWarning': <class 'FutureWarning'>, 'ImportWarning': <class 'ImportWarning'>, 'PendingDeprecationWarning': <class 'PendingDeprecationWarning'>, 'ResourceWarning': <class 'ResourceWarning'>, 'RuntimeWarning': <class 'RuntimeWarning'>, 'SyntaxWarning': <class 'SyntaxWarning'>, 'UnicodeWarning': <class 'UnicodeWarning'>, 'UserWarning': <class 'UserWarning'>, 'BlockingIOError': <class 'BlockingIOError'>, 'ChildProcessError': <class 'ChildProcessError'>, 'ConnectionError': <class 'ConnectionError'>, 'FileExistsError': <class 'FileExistsError'>, 'FileNotFoundError': <class 'FileNotFoundError'>, 'InterruptedError': <class 'InterruptedError'>, 'IsADirectoryError': <class 'IsADirectoryError'>, 'NotADirectoryError': <class 'NotADirectoryError'>, 'PermissionError': <class 'PermissionError'>, 'ProcessLookupError': <class 'ProcessLookupError'>, 'TimeoutError': <class 'TimeoutError'>, 'IndentationError': <class 'IndentationError'>, 'IndexError': <class 'IndexError'>, 'KeyError': <class 'KeyError'>, 'ModuleNotFoundError': <class 'ModuleNotFoundError'>, 'NotImplementedError': <class 'NotImplementedError'>, 'RecursionError': <class 'RecursionError'>, 'UnboundLocalError': <class 'UnboundLocalError'>, 'UnicodeError': <class 'UnicodeError'>, 'BrokenPipeError': <class 'BrokenPipeError'>, 'ConnectionAbortedError': <class 'ConnectionAbortedError'>, 'ConnectionRefusedError': <class 'ConnectionRefusedError'>, 'ConnectionResetError': <class 'ConnectionResetError'>, 'TabError': <class 'TabError'>, 'UnicodeDecodeError': <class 'UnicodeDecodeError'>, 'UnicodeEncodeError': <class 'UnicodeEncodeError'>, 'UnicodeTranslateError': <class 'UnicodeTranslateError'>, 'ExceptionGroup': <class 'ExceptionGroup'>, 'EnvironmentError': <class 'OSError'>, 'IOError': <class 'OSError'>, 'WindowsError': <class 'OSError'>, 'open': <built-in function open>, 'copyright': Copyright (c) 2001-2023 Python Software Foundation.\n",
      "All Rights Reserved.\n",
      "\n",
      "Copyright (c) 2000 BeOpen.com.\n",
      "All Rights Reserved.\n",
      "\n",
      "Copyright (c) 1995-2001 Corporation for National Research Initiatives.\n",
      "All Rights Reserved.\n",
      "\n",
      "Copyright (c) 1991-1995 Stichting Mathematisch Centrum, Amsterdam.\n",
      "All Rights Reserved., 'credits':     Thanks to CWI, CNRI, BeOpen.com, Zope Corporation and a cast of thousands\n",
      "    for supporting Python development.  See www.python.org for more information., 'license': Type license() to see the full license text, 'help': Type help() for interactive help, or help(object) for help about object., 'execfile': <function execfile at 0x00000286F2B9B380>, 'runfile': <function runfile at 0x00000286F2CDA7A0>, '__IPYTHON__': True, 'display': <function display at 0x00000286F16F2980>, 'get_ipython': <bound method InteractiveShell.get_ipython of <ipykernel.zmqshell.ZMQInteractiveShell object at 0x00000286F3FA4A90>>}, '__all__': ('date', 'datetime', 'time', 'timedelta', 'timezone', 'tzinfo', 'MINYEAR', 'MAXYEAR', 'UTC'), 'sys': <module 'sys' (built-in)>, 'MINYEAR': 1, 'MAXYEAR': 9999, 'timedelta': <class 'datetime.timedelta'>, 'date': <class 'datetime.date'>, 'tzinfo': <class 'datetime.tzinfo'>, 'time': <class 'datetime.time'>, 'datetime': <class 'datetime.datetime'>, 'timezone': <class 'datetime.timezone'>, 'UTC': datetime.timezone.utc, 'datetime_CAPI': <capsule object \"datetime.datetime_CAPI\" at 0x00000286F10AFEA0>}\n",
      "\n",
      "*4 два виклики будуть одинаковими True\n"
     ]
    }
   ],
   "source": [
    "print(\"пробуємо вбудовану функцію type. Значення:\", type(a), \"буде теж саме що \", a.__class__)\n",
    "\n",
    "import datetime\n",
    "\n",
    "print(\"можна застосовувати тільки до модулів, результат буде:\", \"\\n**4\", vars(datetime))\n",
    "print(\"\\n*4\", \"два виклики будуть одинаковими\", vars(datetime) is datetime.__dict__)\n"
   ]
  },
  {
   "cell_type": "code",
   "execution_count": 3,
   "metadata": {},
   "outputs": [
    {
     "name": "stdout",
     "output_type": "stream",
     "text": [
      "Help on built-in function print in module builtins:\n",
      "\n",
      "print(*args, sep=' ', end='\\n', file=None, flush=False)\n",
      "    Prints the values to a stream, or to sys.stdout by default.\n",
      "    \n",
      "    sep\n",
      "      string inserted between values, default a space.\n",
      "    end\n",
      "      string appended after the last value, default a newline.\n",
      "    file\n",
      "      a file-like object (stream); defaults to the current sys.stdout.\n",
      "    flush\n",
      "      whether to forcibly flush the stream.\n",
      "\n",
      "функція яка друкує 'q'\n"
     ]
    }
   ],
   "source": [
    "help(print)\n",
    "#\n",
    "def print_q():\n",
    "    print(\"функція яка друкує 'q'\")\n",
    "# це виклик функції\n",
    "print_q()"
   ]
  },
  {
   "cell_type": "markdown",
   "metadata": {},
   "source": [
    "- попросили  chatgpt написати та пояснити програму \n",
    "Звісно, ось програма на Python, яка використовує деякі вбудовані функції для розрахунку середнього значення списку чисел та виведення результату разом з поясненнями кожного кроку:\n",
    "\n",
    "# Введення списку чисел вручну використовуючи функцію input() та map()\n",
    "рядок_чисел = input(\"Введіть числа через пробіл: \")\n",
    "список_чисел = list(map(float, рядок_чисел.split()))\n",
    "\n",
    "# Використання вбудованих функцій для обчислення середнього значення\n",
    "середнє_значення = sum(список_чисел) / len(список_чисел)\n",
    "\n",
    "# Виведення результату\n",
    "print(\"Середнє значення чисел: \", середнє_значення)\n",
    "Пояснення коду:\n",
    "\n",
    "Користувачу пропонується ввести числа через пробіл за допомогою функції input(). Введений рядок чисел зберігається у змінній рядок_чисел.\n",
    "\n",
    "Ми використовуємо метод split() для розділення рядка на окремі числа, розділені пробілами, і функцію map(), щоб перетворити ці числа з рядкового типу на тип даних float. Результат зберігається у змінній список_чисел.\n",
    "\n",
    "Для обчислення середнього значення ми використовуємо вбудовану функцію sum(), яка додає всі елементи списку, і функцію len(), яка повертає кількість елементів у списку. Таким чином, ми ділимо суму чисел на їхню кількість, щоб знайти середнє значення.\n",
    "\n",
    "Результат середнього значення виводиться за допомогою функції print().\n",
    "\n",
    "Ця програма демонструє використання вбудованих функцій Python для обробки введених даних та виконання обчислень, а також виведення результату."
   ]
  },
  {
   "cell_type": "code",
   "execution_count": 19,
   "metadata": {},
   "outputs": [
    {
     "name": "stdout",
     "output_type": "stream",
     "text": [
      "Введена послідовність: 1 4 7 <class 'str'>\n",
      "Значення після перетворення: [1.0, 4.0, 7.0] <class 'list'>\n",
      "Середнє значення чисел:  4.0\n"
     ]
    }
   ],
   "source": [
    "# Введення списку чисел вручну використовуючи функцію input() та map()\n",
    "рядок_чисел = input(\"Введіть числа через пробіл: \")\n",
    "print(\"Введена послідовність:\", рядок_чисел, type(рядок_чисел))\n",
    "список_чисел = list(map(float, рядок_чисел.split()))\n",
    "print(\"Значення після перетворення:\", список_чисел, type(список_чисел))\n",
    "\n",
    "# Використання вбудованих функцій для обчислення середнього значення\n",
    "середнє_значення = sum(список_чисел) / len(список_чисел)\n",
    "\n",
    "# Виведення результату\n",
    "print(\"Середнє значення чисел: \", середнє_значення)"
   ]
  },
  {
   "cell_type": "markdown",
   "metadata": {},
   "source": [
    "- знайомство з циклами\n",
    "> `while` - умовний цикл, виконується невизначену кількість раз поки умова є істиною.\n",
    "> `for` - "
   ]
  },
  {
   "cell_type": "code",
   "execution_count": 18,
   "metadata": {},
   "outputs": [
    {
     "name": "stdout",
     "output_type": "stream",
     "text": [
      "число яке випало : 6\n",
      "було здійснено 1 кидків\n"
     ]
    }
   ],
   "source": [
    "import random\n",
    "#програма емулює кидання кубика, буде працювати доки не випаде значення 6 \n",
    "i = int()\n",
    "r = int()\n",
    "while r != 6:\n",
    "    r = random.randint(1, 6)\n",
    "    print(\"число яке випало :\", r )\n",
    "    i += 1\n",
    "print(\"було здійснено\", i, \"кидків\")"
   ]
  }
 ],
 "metadata": {
  "kernelspec": {
   "display_name": "Python 3",
   "language": "python",
   "name": "python3"
  },
  "language_info": {
   "codemirror_mode": {
    "name": "ipython",
    "version": 3
   },
   "file_extension": ".py",
   "mimetype": "text/x-python",
   "name": "python",
   "nbconvert_exporter": "python",
   "pygments_lexer": "ipython3",
   "version": "3.11.5"
  },
  "orig_nbformat": 4
 },
 "nbformat": 4,
 "nbformat_minor": 2
}
